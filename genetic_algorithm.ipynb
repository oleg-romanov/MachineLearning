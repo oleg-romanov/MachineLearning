{
  "cells": [
    {
      "cell_type": "code",
      "execution_count": 4,
      "metadata": {
        "colab": {
          "base_uri": "https://localhost:8080/"
        },
        "id": "7J25cwSX1nXu",
        "outputId": "3dbb8534-cf73-400e-ee00-625f98681b2a"
      },
      "outputs": [
        {
          "name": "stdout",
          "output_type": "stream",
          "text": [
            "[1, 11, 6, 2, 10, 177]\n",
            "[42, 60, 67, 127, 144]\n"
          ]
        }
      ],
      "source": [
        "# Диафантовые уравнения\n",
        "# Пример: 3x + 2y + z = 10\n",
        "import random\n",
        "\n",
        "# N - Длинна уравнения, кол-во коэфицинтов\n",
        "# K - Коэфицент для формирования популяции. Кол-во популяций равно N * K\n",
        "# KK - Кол-во порожденных поколений\n",
        "N = 6\n",
        "K = 6\n",
        "KK = 20\n",
        "\n",
        "# coefs - [k1, k2, …, kn] - коэффициенты уравнения, kn - свободный член\n",
        "COEFS = [random.randint(1, 20) for i in range(N - 1)]\n",
        "COEFS.append(random.randint(100, 200))\n",
        "\n",
        "# Функция для формирования расределения вероятностей\n",
        "def create_distribution(results):\n",
        "    reverses = [1 / res for res in results]\n",
        "    sum_r = sum(reverses)\n",
        "    distribution = [reverses[0] / sum_r]\n",
        "    for i in range(1, len(results)):\n",
        "        distribution.append(distribution[i-1] + reverses[i] / sum_r)\n",
        "    return distribution\n",
        "\n",
        "# max_vars - [mv_1, mv_2, …, mv_n-1] - максимально возможные коэффициенты при переменных\n",
        "# max_vars[I] - вычисляется как k_n - sum(k_1, k_2, …, k_i-1, k_i+1, …., k_n-1)\n",
        "max_vars = [COEFS[N - 1] - sum(COEFS[:N - 1]) + COEFS[i] for i in range(N - 1)]\n",
        "\n",
        "# Count = n * K, где K - коэффицент, вводимой программой\n",
        "count = N * K\n",
        "population = [\n",
        "    [random.randint(1, max_vars[i]) for i in range(N - 1)]\n",
        "    for j in range(count)\n",
        "]\n",
        "\n",
        "# Прогоняем формирования популяции через KK поколений\n",
        "for _ in range(KK):\n",
        "    # Прогоняем удаление элементов популяции N - 1\n",
        "    for i in range(N-1):\n",
        "        # Считаем насколько отличается популяция от ответа для каждого элемента популяции\n",
        "        results = [COEFS[N - 1] - sum([COEFS[i] * population[k][i] for i in range(N - 1)]) for k in range(count)]\n",
        "        # Делаем распеределение для разниц с ответом\n",
        "        distributioins = create_distribution(results)\n",
        "        # Имитируем русскую рулетку\n",
        "        rand = random.random()\n",
        "        for j in range(len(distributioins)):\n",
        "            if (distributioins[j] >= rand):\n",
        "                break\n",
        "        # Убираем из поплуции выпавшие элементы\n",
        "        population.pop(j)\n",
        "        results.pop(j)\n",
        "        count -= 1\n",
        "\n",
        "    # Потом для новой популяции перестраиваются вероятности.\n",
        "    # И считается распределение для новой популяции. Так повторяется n-1 раз\n",
        "    # n - кол-во коэффициентов исходного уравнения\n",
        "    # Популяция, которая осталась скрещивается:\n",
        "    # Если кол-во в популяции четное, составляем рандомные пары. Если нет, то один элемент останется.\n",
        "    # Создаем новую популяцию на основе предыдущей.\n",
        "    # Продолжаем делать так N раз\n",
        "    pairs = []\n",
        "    for i in range(count // 2):\n",
        "        pairs.append([\n",
        "            population.pop(random.randint(0, len(population) - 1)),\n",
        "            population.pop(random.randint(0, len(population) - 1))\n",
        "        ])\n",
        "    if (count % 2 == 1):\n",
        "        pairs.append([population[len(population) - 1], []])\n",
        "\n",
        "    new_population = []\n",
        "    for i in range(len(pairs)):\n",
        "        if (len(pairs[i][1]) == 0):\n",
        "            new_population.append(pairs[i][0])\n",
        "        else:\n",
        "            new_population.append(pairs[i][0][:len(pairs[i][0]) // 2] + pairs[i][1][len(pairs[i][0]) // 2:])\n",
        "            new_population.append(pairs[i][1][:len(pairs[i][0]) // 2] + pairs[i][0][len(pairs[i][0]) // 2:])\n",
        "\n",
        "    population = new_population\n",
        "\n",
        "    # Если в попупуляции осталась одна особь, ее берем как идеальную\n",
        "    if len(results) == 1:\n",
        "        break\n",
        "\n",
        "# Выводим коэффиценты и популяцию\n",
        "print(COEFS)\n",
        "print(population[0])"
      ]
    }
  ],
  "metadata": {
    "colab": {
      "provenance": []
    },
    "kernelspec": {
      "display_name": "Python 3",
      "language": "python",
      "name": "python3"
    },
    "language_info": {
      "codemirror_mode": {
        "name": "ipython",
        "version": 3
      },
      "file_extension": ".py",
      "mimetype": "text/x-python",
      "name": "python",
      "nbconvert_exporter": "python",
      "pygments_lexer": "ipython3",
      "version": "3.9.6"
    },
    "vscode": {
      "interpreter": {
        "hash": "31f2aee4e71d21fbe5cf8b01ff0e069b9275f58929596ceb00d14d90e3e16cd6"
      }
    }
  },
  "nbformat": 4,
  "nbformat_minor": 0
}
